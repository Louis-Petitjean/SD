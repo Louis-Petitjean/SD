{
 "cells": [
  {
   "cell_type": "markdown",
   "id": "1e4a0664",
   "metadata": {},
   "source": [
    "# TP1-SD204"
   ]
  },
  {
   "cell_type": "code",
   "execution_count": 2,
   "id": "ead4d624",
   "metadata": {},
   "outputs": [],
   "source": [
    "import pandas as pd\n",
    "import numpy as np\n",
    "import matplotlib.pyplot as plt"
   ]
  },
  {
   "cell_type": "markdown",
   "id": "eee071cb",
   "metadata": {},
   "source": [
    "### Q1"
   ]
  },
  {
   "cell_type": "code",
   "execution_count": 16,
   "id": "7bd20b62",
   "metadata": {},
   "outputs": [
    {
     "data": {
      "text/html": [
       "<div>\n",
       "<style scoped>\n",
       "    .dataframe tbody tr th:only-of-type {\n",
       "        vertical-align: middle;\n",
       "    }\n",
       "\n",
       "    .dataframe tbody tr th {\n",
       "        vertical-align: top;\n",
       "    }\n",
       "\n",
       "    .dataframe thead th {\n",
       "        text-align: right;\n",
       "    }\n",
       "</style>\n",
       "<table border=\"1\" class=\"dataframe\">\n",
       "  <thead>\n",
       "    <tr style=\"text-align: right;\">\n",
       "      <th></th>\n",
       "      <th>Year</th>\n",
       "      <th>GNP</th>\n",
       "      <th>Invest</th>\n",
       "      <th>Cpi</th>\n",
       "      <th>Interest</th>\n",
       "    </tr>\n",
       "  </thead>\n",
       "  <tbody>\n",
       "    <tr>\n",
       "      <th>0</th>\n",
       "      <td>1968</td>\n",
       "      <td>873.4</td>\n",
       "      <td>133.3</td>\n",
       "      <td>82.54</td>\n",
       "      <td>5.16</td>\n",
       "    </tr>\n",
       "    <tr>\n",
       "      <th>1</th>\n",
       "      <td>1969</td>\n",
       "      <td>944.0</td>\n",
       "      <td>149.3</td>\n",
       "      <td>86.79</td>\n",
       "      <td>5.87</td>\n",
       "    </tr>\n",
       "    <tr>\n",
       "      <th>2</th>\n",
       "      <td>1970</td>\n",
       "      <td>992.7</td>\n",
       "      <td>144.2</td>\n",
       "      <td>91.45</td>\n",
       "      <td>5.95</td>\n",
       "    </tr>\n",
       "    <tr>\n",
       "      <th>3</th>\n",
       "      <td>1971</td>\n",
       "      <td>1077.6</td>\n",
       "      <td>166.4</td>\n",
       "      <td>96.01</td>\n",
       "      <td>4.88</td>\n",
       "    </tr>\n",
       "    <tr>\n",
       "      <th>4</th>\n",
       "      <td>1972</td>\n",
       "      <td>1185.9</td>\n",
       "      <td>195.0</td>\n",
       "      <td>100.00</td>\n",
       "      <td>4.50</td>\n",
       "    </tr>\n",
       "    <tr>\n",
       "      <th>5</th>\n",
       "      <td>1973</td>\n",
       "      <td>1326.4</td>\n",
       "      <td>229.8</td>\n",
       "      <td>105.75</td>\n",
       "      <td>6.44</td>\n",
       "    </tr>\n",
       "    <tr>\n",
       "      <th>6</th>\n",
       "      <td>1974</td>\n",
       "      <td>1434.2</td>\n",
       "      <td>228.7</td>\n",
       "      <td>115.08</td>\n",
       "      <td>7.83</td>\n",
       "    </tr>\n",
       "    <tr>\n",
       "      <th>7</th>\n",
       "      <td>1975</td>\n",
       "      <td>1549.2</td>\n",
       "      <td>206.1</td>\n",
       "      <td>125.79</td>\n",
       "      <td>6.25</td>\n",
       "    </tr>\n",
       "    <tr>\n",
       "      <th>8</th>\n",
       "      <td>1976</td>\n",
       "      <td>1718.0</td>\n",
       "      <td>257.9</td>\n",
       "      <td>132.34</td>\n",
       "      <td>5.50</td>\n",
       "    </tr>\n",
       "    <tr>\n",
       "      <th>9</th>\n",
       "      <td>1977</td>\n",
       "      <td>1918.3</td>\n",
       "      <td>324.1</td>\n",
       "      <td>140.05</td>\n",
       "      <td>5.46</td>\n",
       "    </tr>\n",
       "    <tr>\n",
       "      <th>10</th>\n",
       "      <td>1978</td>\n",
       "      <td>2163.9</td>\n",
       "      <td>386.6</td>\n",
       "      <td>150.42</td>\n",
       "      <td>7.46</td>\n",
       "    </tr>\n",
       "    <tr>\n",
       "      <th>11</th>\n",
       "      <td>1979</td>\n",
       "      <td>2417.8</td>\n",
       "      <td>423.0</td>\n",
       "      <td>163.42</td>\n",
       "      <td>10.28</td>\n",
       "    </tr>\n",
       "    <tr>\n",
       "      <th>12</th>\n",
       "      <td>1980</td>\n",
       "      <td>2633.1</td>\n",
       "      <td>402.3</td>\n",
       "      <td>178.64</td>\n",
       "      <td>11.77</td>\n",
       "    </tr>\n",
       "    <tr>\n",
       "      <th>13</th>\n",
       "      <td>1981</td>\n",
       "      <td>2937.7</td>\n",
       "      <td>471.5</td>\n",
       "      <td>195.51</td>\n",
       "      <td>13.42</td>\n",
       "    </tr>\n",
       "    <tr>\n",
       "      <th>14</th>\n",
       "      <td>1982</td>\n",
       "      <td>3057.5</td>\n",
       "      <td>421.9</td>\n",
       "      <td>207.23</td>\n",
       "      <td>11.02</td>\n",
       "    </tr>\n",
       "  </tbody>\n",
       "</table>\n",
       "</div>"
      ],
      "text/plain": [
       "    Year     GNP  Invest     Cpi  Interest\n",
       "0   1968   873.4   133.3   82.54      5.16\n",
       "1   1969   944.0   149.3   86.79      5.87\n",
       "2   1970   992.7   144.2   91.45      5.95\n",
       "3   1971  1077.6   166.4   96.01      4.88\n",
       "4   1972  1185.9   195.0  100.00      4.50\n",
       "5   1973  1326.4   229.8  105.75      6.44\n",
       "6   1974  1434.2   228.7  115.08      7.83\n",
       "7   1975  1549.2   206.1  125.79      6.25\n",
       "8   1976  1718.0   257.9  132.34      5.50\n",
       "9   1977  1918.3   324.1  140.05      5.46\n",
       "10  1978  2163.9   386.6  150.42      7.46\n",
       "11  1979  2417.8   423.0  163.42     10.28\n",
       "12  1980  2633.1   402.3  178.64     11.77\n",
       "13  1981  2937.7   471.5  195.51     13.42\n",
       "14  1982  3057.5   421.9  207.23     11.02"
      ]
     },
     "execution_count": 16,
     "metadata": {},
     "output_type": "execute_result"
    }
   ],
   "source": [
    "year = [i for i in range(1968,1983)] \n",
    "gnp = [873.4, 944, 992.7, 1077.6,1185.9, 1326.4, 1434.2, 1549.2,1718, 1918.3, 2163.9, 2417.8, 2633.1, 2937.7, 3057.5]\n",
    "invest = [133.3, 149.3, 144.2,166.4 , 195 ,229.8 ,  228.7 , 206.1, 257.9,324.1, 386.6, 423 , 402.3 ,  471.5 , 421.9] \n",
    "cpi = [82.54 , 86.79 ,91.45, 96.01, 100, 105.75, 115.08, 125.79, 132.34, 140.05,  150.42, 163.42, 178.64, 195.51, 207.23]\n",
    "interest = [5.16, 5.87, 5.95, 4.88, 4.5, 6.44, 7.83, 6.25, 5.5, 5.46, 7.46, 10.28, 11.77, 13.42, 11.02]\n",
    "dict = {'Year': year, 'GNP': gnp, 'Invest': invest, 'Cpi': cpi, 'Interest': interest} \n",
    "df = pd.DataFrame(dict) \n",
    "df"
   ]
  },
  {
   "cell_type": "markdown",
   "id": "13e315c5",
   "metadata": {},
   "source": [
    "### Q2"
   ]
  },
  {
   "cell_type": "code",
   "execution_count": 17,
   "id": "b99346b3",
   "metadata": {},
   "outputs": [
    {
     "data": {
      "image/png": "[encoded data removed]",
      "text/plain": [
       "<Figure size 432x288 with 1 Axes>"
      ]
     },
     "metadata": {
      "needs_background": "light"
     },
     "output_type": "display_data"
    },
    {
     "data": {
      "image/png": "[encoded data removed]",
      "text/plain": [
       "<Figure size 432x288 with 1 Axes>"
      ]
     },
     "metadata": {
      "needs_background": "light"
     },
     "output_type": "display_data"
    }
   ],
   "source": [
    "x = df['GNP']\n",
    "y = df['Invest']\n",
    "plt.scatter(x,y)\n",
    "plt.title(\"Invest en fonction du GNP\")\n",
    "plt.show()\n",
    "\n",
    "xlog = np.log(df['GNP'])\n",
    "ylog = np.log(df['Invest'])\n",
    "plt.title(\"Invest en fonction du GNP échelle log\")\n",
    "plt.scatter(xlog,ylog)\n",
    "plt.show()"
   ]
  },
  {
   "cell_type": "code",
   "execution_count": 18,
   "id": "c478e1e7",
   "metadata": {},
   "outputs": [
    {
     "name": "stdout",
     "output_type": "stream",
     "text": [
      "b0= -1.9635913352301815 b1= 1.015281401598871\n"
     ]
    }
   ],
   "source": [
    "# Estimation of the slope and the intercept\n",
    "\n",
    "X = np.array(np.log(df['GNP']))\n",
    "Y = np.array(np.log(df['Invest']))\n",
    "Xmean = np.mean(X)\n",
    "Ymean = np.mean(Y)\n",
    "\n",
    "Xc = X - Xmean\n",
    "Yc = Y - Ymean \n",
    "Snum = np.sum(Xc*Yc)\n",
    "Sden = np.sum(Xc*Xc)\n",
    "\n",
    "b1 = Snum/Sden\n",
    "b0 = Ymean - b1 * Xmean\n",
    "\n",
    "# Calcul du coefficient de corrélation\n",
    "\n",
    "Yp = b0 + b1 * X\n",
    "Rcarre = np.sum((Yp - Ymean)**2) / np.sum((Y - Ymean)**2)\n",
    "\n",
    "print(\"b0=\", b0, \"b1=\", b1)"
   ]
  },
  {
   "cell_type": "markdown",
   "id": "e0d4d7dc",
   "metadata": {},
   "source": [
    "### Q4"
   ]
  },
  {
   "cell_type": "code",
   "execution_count": 21,
   "id": "e0be4afd",
   "metadata": {},
   "outputs": [
    {
     "name": "stdout",
     "output_type": "stream",
     "text": [
      "1.1363709973011282e-10\n",
      "Le test est donc rejeté\n"
     ]
    }
   ],
   "source": [
    "# H0 : b0 = 0\n",
    "n = np.size(Y)\n",
    "\n",
    "sigma_carré = 1/(n-2) * np.sum((Y - (b0 + b1*X))**2)\n",
    "\n",
    "S = np.sum(Xc*Xc)\n",
    "var1 = sigma_carré / S\n",
    "\n",
    "Tn = b1/np.sqrt(var1)\n",
    "\n",
    "p = 1\n",
    "\n",
    "from scipy.stats import t  \n",
    "\n",
    "alpha = 2 * (1-t.cdf(Tn, (n-(p+1))))\n",
    "print(alpha)\n",
    "print(\"Le test est donc rejeté\")\n",
    "\n"
   ]
  },
  {
   "cell_type": "markdown",
   "id": "6aa07917",
   "metadata": {},
   "source": [
    "### Q5"
   ]
  },
  {
   "cell_type": "code",
   "execution_count": 34,
   "id": "b45ebef5",
   "metadata": {},
   "outputs": [
    {
     "name": "stdout",
     "output_type": "stream",
     "text": [
      "5.728418197423583\n",
      "CI(1000) = [5.728418197423583 ; 5.728418197423583]\n",
      "PI(1000) = [5.745928273265732 ; 5.745928273265732]\n"
     ]
    }
   ],
   "source": [
    "# Prediction\n",
    "xlog = np.log(1000)\n",
    "ylog = b0 + b1*xlog\n",
    "\n",
    "import scipy.stats\n",
    "# Confidence interval\n",
    "S = np.sum(Xc*Xc)\n",
    "S1 = np.sqrt(sigma_carré * (1/n + (xlog**2)/S))\n",
    "t1 = t.ppf([0.05, 0.95], (n-(p+1)))\n",
    "CIinf = ylog - t1[0]*S1\n",
    "CIsup = ylog + t1[1]*S1\n",
    "print(CIinf)\n",
    "\n",
    "print(\"CI(1000) = [\" + str(CIinf) + \" ; \" + str(CIsup) + \"]\")\n",
    "\n",
    "# Prediction Interval\n",
    "S = np.sum(Xc*Xc)\n",
    "S1 = np.sqrt(sigma_carré * (1+1/n + (xlog**2)/S))\n",
    "PIinf = ylog - t1[0]*S1\n",
    "PIsup = ylog + t1[1]*S1\n",
    "\n",
    "print(\"PI(1000) = [\" + str(PIinf) + \" ; \" + str(PIsup) + \"]\")\n"
   ]
  },
  {
   "cell_type": "markdown",
   "id": "14c9ee76",
   "metadata": {},
   "source": [
    "### Q6"
   ]
  },
  {
   "cell_type": "code",
   "execution_count": 106,
   "id": "858c8b16",
   "metadata": {},
   "outputs": [
    {
     "data": {
      "image/png": "[encoded data removed]",
      "text/plain": [
       "<Figure size 432x288 with 1 Axes>"
      ]
     },
     "metadata": {
      "needs_background": "light"
     },
     "output_type": "display_data"
    }
   ],
   "source": [
    "# Data\n",
    "xlog = np.log(df['GNP'])\n",
    "ylog = np.log(df['Invest'])\n",
    "plt.title(\"Invest en fonction du GNP échelle log\")\n",
    "plt.scatter(xlog,ylog)\n",
    "\n",
    "# Regression\n",
    "x0 = 1/10 * np.arange(66, 85)\n",
    "y0 = b0 + b1*x0\n",
    "plt.plot(x0,y0, color=\"green\")\n",
    "\n",
    "# CI\n",
    "\n",
    "\n",
    "plt.show()"
   ]
  },
  {
   "cell_type": "markdown",
   "id": "149a5e65",
   "metadata": {},
   "source": [
    "### Q7"
   ]
  },
  {
   "cell_type": "code",
   "execution_count": 100,
   "id": "080a02f2",
   "metadata": {},
   "outputs": [
    {
     "name": "stdout",
     "output_type": "stream",
     "text": [
      "b0 via sklearn = -1.2981137156516835\n",
      "b0 à la main = -1.2981137156516827\n",
      "b1 via sklearn = 0.923001022410924\n",
      "b1 à la main = 0.9230010224109235\n"
     ]
    }
   ],
   "source": [
    "from sklearn.linear_model import LinearRegression\n",
    "\n",
    "X = np.array(np.log(df['GNP'])).reshape((-1, 1))\n",
    "Y = np.array(np.log(df['Invest']))\n",
    "\n",
    "reg = LinearRegression().fit(X, Y)\n",
    "\n",
    "print(\"b0 via sklearn = \" + str(reg.intercept_))\n",
    "print(\"b0 à la main = \" + str(b0))\n",
    "\n",
    "# Calcul of the scope\n",
    "\n",
    "Xpred = np.array([7, 8]).reshape(-1,1)\n",
    "Ypred = reg.predict(Xpred)\n",
    "scope = Ypred[1]-Ypred[0]\n",
    "\n",
    "print(\"b1 via sklearn = \" + str(scope))\n",
    "print(\"b1 à la main = \" + str(b1))\n"
   ]
  },
  {
   "cell_type": "markdown",
   "id": "d36d4c71",
   "metadata": {},
   "source": [
    "### Q8"
   ]
  },
  {
   "cell_type": "code",
   "execution_count": 105,
   "id": "8a472601",
   "metadata": {},
   "outputs": [
    {
     "data": {
      "image/png": "[encoded data removed]",
      "text/plain": [
       "<Figure size 432x288 with 1 Axes>"
      ]
     },
     "metadata": {
      "needs_background": "light"
     },
     "output_type": "display_data"
    }
   ],
   "source": [
    "xlog = np.log(df['GNP'])\n",
    "ylog = np.log(df['Invest'])\n",
    "plt.title(\"Invest en fonction du GNP échelle log\")\n",
    "plt.scatter(xlog,ylog)\n",
    "\n",
    "\n",
    "gnp = np.array([[np.log(1000)]])\n",
    "invest = reg.predict(gnp)\n",
    "\n",
    "plt.scatter(gnp,invest, color = \"red\")\n",
    "\n",
    "\n",
    "x0 = 1/10 * np.arange(66, 85)\n",
    "y0 = b0 + b1*x0\n",
    "plt.plot(x0,y0, color=\"green\")\n",
    "plt.show()\n"
   ]
  },
  {
   "cell_type": "markdown",
   "id": "ec9816bf",
   "metadata": {},
   "source": [
    "### Q9"
   ]
  },
  {
   "cell_type": "code",
   "execution_count": null,
   "id": "17e3b280",
   "metadata": {},
   "outputs": [],
   "source": []
  }
 ],
 "metadata": {
  "kernelspec": {
   "display_name": "Python 3 (ipykernel)",
   "language": "python",
   "name": "python3"
  },
  "language_info": {
   "codemirror_mode": {
    "name": "ipython",
    "version": 3
   },
   "file_extension": ".py",
   "mimetype": "text/x-python",
   "name": "python",
   "nbconvert_exporter": "python",
   "pygments_lexer": "ipython3",
   "version": "3.9.7"
  }
 },
 "nbformat": 4,
 "nbformat_minor": 5
}
